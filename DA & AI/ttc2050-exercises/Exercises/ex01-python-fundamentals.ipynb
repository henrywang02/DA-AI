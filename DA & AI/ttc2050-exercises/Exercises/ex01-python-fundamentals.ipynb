{
 "cells": [
  {
   "cell_type": "markdown",
   "metadata": {},
   "source": [
    "## Exercise 1 - Python fundamentals Part 1"
   ]
  },
  {
   "cell_type": "markdown",
   "metadata": {},
   "source": [
    "1 Sentence is presented in the code cell below. Create a variable which has first ten and last ten characters concatenated."
   ]
  },
  {
   "cell_type": "code",
   "execution_count": 13,
   "metadata": {},
   "outputs": [
    {
     "name": "stdout",
     "output_type": "stream",
     "text": [
      "Result: Gary must he target.\n"
     ]
    }
   ],
   "source": [
    "# Sentence\n",
    "s = \"Gary must look towards the future in order to gather enough information from the target.\"\n",
    "\n",
    "# Extract the first ten and the last ten characters\n",
    "first_ten = s[:10]\n",
    "last_ten = s[-10:]\n",
    "\n",
    "# Concatenate the first ten and the last ten characters\n",
    "result = first_ten + last_ten\n",
    "\n",
    "# print the result\n",
    "print(\"Result:\", result)"
   ]
  },
  {
   "cell_type": "markdown",
   "metadata": {},
   "source": [
    "2 Count the number of white spaces between words from the previous sentence and divide that number with the length of the sentence."
   ]
  },
  {
   "cell_type": "code",
   "execution_count": 12,
   "metadata": {},
   "outputs": [
    {
     "name": "stdout",
     "output_type": "stream",
     "text": [
      "Result: 0.1590909090909091\n",
      "88\n",
      "14\n"
     ]
    }
   ],
   "source": [
    "# Count the number of white space in S and devide with the length of S\n",
    "def count_and_divide_whitespace(s):\n",
    "    # Count the number of white space between words\n",
    "    whitespace_count = s.count(' ')\n",
    "\n",
    "    # divide the number of white spaces by the length of s\n",
    "    s_length = len(s)\n",
    "    result = whitespace_count / s_length if s_length > 0 else 0\n",
    "\n",
    "    return result\n",
    "\n",
    "\n",
    "result = count_and_divide_whitespace(s)\n",
    "print(\"Result:\", result)\n",
    "print(len(s))\n",
    "print(s.count(' '))"
   ]
  },
  {
   "cell_type": "markdown",
   "metadata": {},
   "source": [
    "3  Add the following cars to the existing list of dictionary objects:\n",
    "    - Red Toyota Corolla (1985)\n",
    "    - Lightblue Ford Mustang (1965)\n",
    "    - Black Pontiac Firebird (1987)"
   ]
  },
  {
   "cell_type": "code",
   "execution_count": 1,
   "metadata": {},
   "outputs": [
    {
     "name": "stdout",
     "output_type": "stream",
     "text": [
      "[{'make': 'Ford', 'model': 'escort', 'color': 'green', 'year': 1994}, {'make': 'Lexus', 'model': 'IS250', 'color': 'beige', 'year': 2013}, {'make': 'Volvo', 'model': 'S40', 'color': 'blue', 'year': 1998}, {'make': 'Toyota', 'model': 'Corolla', 'color': 'Red', 'year': 1985}, {'make': 'Ford', 'model': 'Mustang', 'color': 'Lightblue', 'year': 1965}, {'make': 'Pontiac', 'model': 'Firebird', 'color': 'black', 'year': 1987}]\n"
     ]
    }
   ],
   "source": [
    "# Cars\n",
    "cars = [{\"make\":\"Ford\",\"model\":\"escort\",\"color\":\"green\",\"year\":1994},{\"make\":\"Lexus\",\"model\":\"IS250\",\"color\":\"beige\",\"year\":2013},{\"make\":\"Volvo\",\"model\":\"S40\",\"color\":\"blue\",\"year\":1998}]\n",
    "\n",
    "cars.extend([\n",
    "    {\"make\":\"Toyota\",\"model\":\"Corolla\",\"color\":\"Red\",\"year\":1985},\n",
    "    {\"make\":\"Ford\",\"model\":\"Mustang\",\"color\":\"Lightblue\",\"year\":1965},\n",
    "    {\"make\":\"Pontiac\",\"model\":\"Firebird\",\"color\":\"black\",\"year\":1987}\n",
    "])\n",
    "\n",
    "# print the updated list of the cars\n",
    "print(cars)"
   ]
  },
  {
   "attachments": {},
   "cell_type": "markdown",
   "metadata": {},
   "source": [
    "4 Convert the sentence presented below to list using **existing commas (,)** in the sentence as separators. Then create a new list which contains only the last three items from the list."
   ]
  },
  {
   "cell_type": "code",
   "execution_count": 6,
   "metadata": {},
   "outputs": [
    {
     "name": "stdout",
     "output_type": "stream",
     "text": [
      "Origignal List: ['Occaecat short ribs incididunt laboris. Bresaola', 'brisket ex', 'landjaeger ad', 'boudin pariatur frankfurter eu flank. Enim tail short ribs', 'shoulder duis minim excepteur', 'deserunt lorem porchetta. Dolor chicken spare ribs', 'id in', 'ball', 'tip', 'hamburger labore venison consectetur cupidatat.']\n",
      "New List With The Last Three Items: ['ball', 'tip', 'hamburger labore venison consectetur cupidatat.']\n"
     ]
    }
   ],
   "source": [
    "    # Sentence\n",
    "s = \"Occaecat short ribs incididunt laboris. Bresaola, brisket ex, landjaeger ad, boudin pariatur frankfurter eu flank. Enim tail short ribs, shoulder duis minim excepteur, deserunt lorem porchetta. Dolor chicken spare ribs, id in, ball, tip, hamburger labore venison consectetur cupidatat.\"\n",
    "\n",
    "# convert the sentence to a list using commas as sperators\n",
    "sentence_list = [item.strip() for item in s.split(',')]\n",
    "\n",
    "# create a new list with the last three items\n",
    "last_three_items = sentence_list[-3:]\n",
    "\n",
    "# print the lists\n",
    "print(\"Origignal List:\", sentence_list)\n",
    "print(\"New List With The Last Three Items:\", last_three_items)"
   ]
  }
 ],
 "metadata": {
  "kernelspec": {
   "display_name": "Python 3",
   "language": "python",
   "name": "python3"
  },
  "language_info": {
   "codemirror_mode": {
    "name": "ipython",
    "version": 3
   },
   "file_extension": ".py",
   "mimetype": "text/x-python",
   "name": "python",
   "nbconvert_exporter": "python",
   "pygments_lexer": "ipython3",
   "version": "3.10.6"
  },
  "orig_nbformat": 2,
  "vscode": {
   "interpreter": {
    "hash": "05cbb8e30cd2cbe161554e93617827c610928832f77224aad1765f5c87120ccf"
   }
  }
 },
 "nbformat": 4,
 "nbformat_minor": 2
}
