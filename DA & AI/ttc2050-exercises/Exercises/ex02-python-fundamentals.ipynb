{
 "cells": [
  {
   "cell_type": "markdown",
   "metadata": {},
   "source": [
    "## Exercise 2 - Python fundamentals Part 2"
   ]
  },
  {
   "cell_type": "markdown",
   "metadata": {},
   "source": [
    "1 Create a function which will go through a list called **vars** and save the type of each variable to a new list. The starting information is given in the next cell."
   ]
  },
  {
   "cell_type": "code",
   "execution_count": 5,
   "metadata": {},
   "outputs": [
    {
     "name": "stdout",
     "output_type": "stream",
     "text": [
      "[<class 'int'>, <class 'str'>, <class 'int'>, <class 'float'>, <class 'list'>, <class 'bool'>, <class 'tuple'>]\n"
     ]
    }
   ],
   "source": [
    "# Your function here\n",
    "def define_and_save_the_type(lst):\n",
    "    new_lst = []\n",
    "\n",
    "    for i in lst:\n",
    "            new_lst.append(type(i))\n",
    "\n",
    "    return new_lst\n",
    "\n",
    "# Test\n",
    "vars = [100,\"Car\",25000,10.0,[\"a\",\"b\",\"c\"],True,(\"a\",\"b\")]\n",
    "\n",
    "result = define_and_save_the_type(vars)\n",
    "print(result)"
   ]
  },
  {
   "cell_type": "markdown",
   "metadata": {},
   "source": [
    "2 You are given two lists **l1** and **l2**. Create a function which will take two lists as input and print values that are present in both lists."
   ]
  },
  {
   "cell_type": "code",
   "execution_count": 7,
   "metadata": {},
   "outputs": [
    {
     "name": "stdout",
     "output_type": "stream",
     "text": [
      "Common elements: [1, 5, 9, 7]\n"
     ]
    }
   ],
   "source": [
    "# Your function here\n",
    "def common_elements(list1, list2):\n",
    "    common_values = set(list1) & set(list2)\n",
    "\n",
    "    print(\"Common elements:\", list(common_values))\n",
    "\n",
    "# Test\n",
    "l1 = [1,4,5,7,8,9,10]\n",
    "l2 = [1,2,3,5,6,7,9]\n",
    "\n",
    "common_elements(l1, l2)"
   ]
  },
  {
   "cell_type": "markdown",
   "metadata": {},
   "source": [
    "3 Below is a list containing words. Create a function which returns only words with length of 4 or less."
   ]
  },
  {
   "cell_type": "code",
   "execution_count": 6,
   "metadata": {},
   "outputs": [
    {
     "name": "stdout",
     "output_type": "stream",
     "text": [
      "['code', 'mill']\n"
     ]
    }
   ],
   "source": [
    "# Your function here\n",
    "def filter_words(words):\n",
    "\n",
    "    new_words = []\n",
    "    for word in words:\n",
    "        if len(word) <= 4 & len(word) > 0:\n",
    "            new_words.append(word)\n",
    "    \n",
    "    return new_words\n",
    "# Test\n",
    "words = [\"bootcamp\",\"yellow\",\"development\",\"full-time\",\"code\",\"fresh\",\"\",\"static\",\"red\",\"advance\",\"mill\",\"story\",\"are\"]\n",
    "\n",
    "new_word = filter_words(words)\n",
    "print(new_word)"
   ]
  },
  {
   "cell_type": "markdown",
   "metadata": {},
   "source": [
    "4 Create a function which does the following:\n",
    "    - Take list of dictionaries containing information of data loggers presented below as an input\n",
    "    - Iterate through the dictionary and count the total amount of each sensor type. Example: {\"temp\":2,\"hum\":5,\"light\":2,\"noise\":4}.\n",
    "    - Return this dictionary"
   ]
  },
  {
   "cell_type": "code",
   "execution_count": 15,
   "metadata": {},
   "outputs": [
    {
     "name": "stdout",
     "output_type": "stream",
     "text": [
      "{'temp': 5, 'hum': 5, 'noise': 2, 'light': 3}\n"
     ]
    }
   ],
   "source": [
    "# Define a function\n",
    "def count_sensor_types(data_loggers):\n",
    "    sensor_count = {}\n",
    "\n",
    "    for logger in data_loggers:\n",
    "        for sensor in logger[\"sensors\"]:\n",
    "            sensor_count[sensor] = sensor_count.get(sensor, 0) + 1\n",
    "\n",
    "    return sensor_count\n",
    "# Data loggers\n",
    "sdata = [{\"ID\":\"logger-1\",\"sensors\":[\"temp\",\"hum\",\"noise\"]},\n",
    "    {\"ID\":\"logger-2\",\"sensors\":[\"temp\",\"hum\"]},\n",
    "    {\"ID\":\"logger-3\",\"sensors\":[\"temp\",\"hum\",\"light\"]},\n",
    "    {\"ID\":\"logger-4\",\"sensors\":[\"temp\",\"hum\",\"light\"]},\n",
    "    {\"ID\":\"logger-5\",\"sensors\":[\"temp\",\"hum\",\"noise\",\"light\"]}]\n",
    "\n",
    "result = count_sensor_types(sdata)\n",
    "print(result)"
   ]
  }
 ],
 "metadata": {
  "kernelspec": {
   "display_name": "Python 3",
   "language": "python",
   "name": "python3"
  },
  "language_info": {
   "codemirror_mode": {
    "name": "ipython",
    "version": 3
   },
   "file_extension": ".py",
   "mimetype": "text/x-python",
   "name": "python",
   "nbconvert_exporter": "python",
   "pygments_lexer": "ipython3",
   "version": "3.10.6"
  },
  "orig_nbformat": 2,
  "vscode": {
   "interpreter": {
    "hash": "05cbb8e30cd2cbe161554e93617827c610928832f77224aad1765f5c87120ccf"
   }
  }
 },
 "nbformat": 4,
 "nbformat_minor": 2
}
