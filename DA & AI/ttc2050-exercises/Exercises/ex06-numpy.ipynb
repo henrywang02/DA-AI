{
 "cells": [
  {
   "cell_type": "markdown",
   "metadata": {},
   "source": [
    "## Exercise 6 - Numpy"
   ]
  },
  {
   "cell_type": "markdown",
   "metadata": {},
   "source": [
    "1 Generate two NumPy arrays so that first array has integers from 10 to 40 (inclusive). Second array should have integers from 220 to 250 (inclusive). Sum these arrays and present the result array."
   ]
  },
  {
   "cell_type": "code",
   "execution_count": 1,
   "metadata": {},
   "outputs": [
    {
     "name": "stdout",
     "output_type": "stream",
     "text": [
      "Array 1: [10 11 12 13 14 15 16 17 18 19 20 21 22 23 24 25 26 27 28 29 30 31 32 33\n",
      " 34 35 36 37 38 39 40]\n",
      "Array 2: [220 221 222 223 224 225 226 227 228 229 230 231 232 233 234 235 236 237\n",
      " 238 239 240 241 242 243 244 245 246 247 248 249 250]\n",
      "Result Array: [230 232 234 236 238 240 242 244 246 248 250 252 254 256 258 260 262 264\n",
      " 266 268 270 272 274 276 278 280 282 284 286 288 290]\n"
     ]
    }
   ],
   "source": [
    "import numpy as np\n",
    "\n",
    "# Generate two NumPy arrays (1st array between 10 to 40 and 2nd array 220 to 250)\n",
    "first_array = np.arange(10, 41)\n",
    "second_array = np.arange(220, 251)\n",
    "\n",
    "# Sum both arrays and present the result array\n",
    "result_array = first_array + second_array\n",
    "\n",
    "# Display result to verify\n",
    "print(\"Array 1:\", first_array)\n",
    "print(\"Array 2:\", second_array)\n",
    "print(\"Result Array:\", result_array)"
   ]
  },
  {
   "cell_type": "markdown",
   "metadata": {},
   "source": [
    "2 Generate two-dimensional array with 10 rows and 7 columns containing integers starting from 100."
   ]
  },
  {
   "cell_type": "code",
   "execution_count": 5,
   "metadata": {},
   "outputs": [
    {
     "data": {
      "text/plain": [
       "array([[100, 101, 102, 103, 104, 105, 106],\n",
       "       [107, 108, 109, 110, 111, 112, 113],\n",
       "       [114, 115, 116, 117, 118, 119, 120],\n",
       "       [121, 122, 123, 124, 125, 126, 127],\n",
       "       [128, 129, 130, 131, 132, 133, 134],\n",
       "       [135, 136, 137, 138, 139, 140, 141],\n",
       "       [142, 143, 144, 145, 146, 147, 148],\n",
       "       [149, 150, 151, 152, 153, 154, 155],\n",
       "       [156, 157, 158, 159, 160, 161, 162],\n",
       "       [163, 164, 165, 166, 167, 168, 169]])"
      ]
     },
     "execution_count": 5,
     "metadata": {},
     "output_type": "execute_result"
    }
   ],
   "source": [
    "import numpy as np\n",
    "\n",
    "# Generate 10 rows - 7 columns two-dimensional arrays containing integers starting from 100\n",
    "array_2d = np.arange(100, 100 + 10*7).reshape(10,7)\n",
    "\n",
    "# display array to verify\n",
    "array_2d"
   ]
  },
  {
   "attachments": {},
   "cell_type": "markdown",
   "metadata": {},
   "source": [
    "3 Generate two one-dimensional arrays having integers between 1-50. First array should have even and second array should have odd numbers. Finally multiply each element from corresponding index positions from these two arrays for the result array. For example [(1 x 2),(3 x 4),(5 x 6),(7 x 8)...]."
   ]
  },
  {
   "cell_type": "code",
   "execution_count": 8,
   "metadata": {},
   "outputs": [
    {
     "name": "stdout",
     "output_type": "stream",
     "text": [
      "Even array: [ 2  4  6  8 10 12 14 16 18 20 22 24 26 28 30 32 34 36 38 40 42 44 46 48\n",
      " 50]\n",
      "Odd array: [ 1  3  5  7  9 11 13 15 17 19 21 23 25 27 29 31 33 35 37 39 41 43 45 47\n",
      " 49]\n",
      "Result array: [   2   12   30   56   90  132  182  240  306  380  462  552  650  756\n",
      "  870  992 1122 1260 1406 1560 1722 1892 2070 2256 2450]\n"
     ]
    }
   ],
   "source": [
    "import numpy as np\n",
    "\n",
    "# Generate the first array with even numbers between 1 and 50\n",
    "even_array = np.arange(2, 51, 2)\n",
    "\n",
    "# Generate the second array with odd numbers between 1 and 50\n",
    "odd_array = np.arange(1, 51, 2)\n",
    "\n",
    "# Multiply corresponding elements from both arrays\n",
    "result_array = even_array * odd_array\n",
    "\n",
    "# Display the result to verify\n",
    "print(\"Even array:\", even_array)\n",
    "print(\"Odd array:\", odd_array)\n",
    "print(\"Result array:\", result_array)\n"
   ]
  },
  {
   "attachments": {},
   "cell_type": "markdown",
   "metadata": {},
   "source": [
    "4 Generate two-dimensional array (40 rows, 5 columns) containing random integers between 1 and 1000. Filter the result array so that only numbers divisable with numbers 2 and 5 are presented (number must be divisable with both)."
   ]
  },
  {
   "cell_type": "code",
   "execution_count": 16,
   "metadata": {},
   "outputs": [
    {
     "name": "stdout",
     "output_type": "stream",
     "text": [
      "Original Array:\n",
      "[[402 999 285 881  67]\n",
      " [615 597 321 534 296]\n",
      " [ 55 506 641 547 311]\n",
      " [154 255 373 436 960]\n",
      " [308 323 858 200 408]\n",
      " [496  62 759 687 384]\n",
      " [502 261 134 860 952]\n",
      " [931 347 612 217 333]\n",
      " [991 218   3 872 463]\n",
      " [165 129 409 285 760]\n",
      " [733 106 885 227 761]\n",
      " [190 448 869 495  33]\n",
      " [736 194 710 826 910]\n",
      " [771 932 338  94 815]\n",
      " [275 975 212 556 290]\n",
      " [817 316 305 911 301]\n",
      " [867 110 982 228 356]\n",
      " [924 558 573 931 231]\n",
      " [367  40 943 511 975]\n",
      " [801 574  42 555 313]\n",
      " [499 707 448 832 472]\n",
      " [941  53 541 313 606]\n",
      " [ 18 580 257 346 877]\n",
      " [923 488 903 739 819]\n",
      " [594 473 381 861 602]\n",
      " [ 73 929 855 966 423]\n",
      " [ 37 300 191 396 459]\n",
      " [621 759 449 607 842]\n",
      " [979 887 708 959 559]\n",
      " [549 843 705 431 948]\n",
      " [530 959 123 819  88]\n",
      " [887  34 999 334 259]\n",
      " [ 42 904  45 308 588]\n",
      " [397 486 577 627 336]\n",
      " [256 138 496 858 592]\n",
      " [918 514 367 258 561]\n",
      " [277  62 925 455 243]\n",
      " [239 460 501 124 511]\n",
      " [137 674 287 326 723]\n",
      " [175 851 187 781 120]]\n",
      "Filtered Array:\n",
      "[960 200 860 760 190 710 910 290 110  40 580 300 530 460 120]\n"
     ]
    }
   ],
   "source": [
    "import numpy as np\n",
    "\n",
    "# Generate two-dimensional array (40 rows, 5 columns) containing random integers between 1 and 1000\n",
    "random_array = np.random.randint(1, 1001, size=(40, 5))\n",
    "\n",
    "# Create a mask to filter the numbers divisible by both 2 and 5\n",
    "mask = (random_array % 2 == 0) & (random_array % 5 == 0)\n",
    "\n",
    "# Apply the mask to the random array to get the filtered result\n",
    "filtered_array = random_array[mask]\n",
    "\n",
    "# Display the original array and filtered array to verify\n",
    "print(\"Original Array:\")\n",
    "print(random_array)\n",
    "print(\"Filtered Array:\")\n",
    "print(filtered_array)"
   ]
  }
 ],
 "metadata": {
  "kernelspec": {
   "display_name": "Python 3",
   "language": "python",
   "name": "python3"
  },
  "language_info": {
   "codemirror_mode": {
    "name": "ipython",
    "version": 3
   },
   "file_extension": ".py",
   "mimetype": "text/x-python",
   "name": "python",
   "nbconvert_exporter": "python",
   "pygments_lexer": "ipython3",
   "version": "3.10.6"
  },
  "orig_nbformat": 2,
  "vscode": {
   "interpreter": {
    "hash": "05cbb8e30cd2cbe161554e93617827c610928832f77224aad1765f5c87120ccf"
   }
  }
 },
 "nbformat": 4,
 "nbformat_minor": 2
}
